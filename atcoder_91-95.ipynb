{
 "cells": [
  {
   "cell_type": "code",
   "execution_count": null,
   "metadata": {},
   "outputs": [],
   "source": [
    "#ABC091 A - Two Coins\n",
    "\n",
    "a,b,c = map(int,input().split())\n",
    "print(\"Yes\" if a+b >= c else \"No\")"
   ]
  },
  {
   "cell_type": "code",
   "execution_count": null,
   "metadata": {},
   "outputs": [],
   "source": [
    "#ABC091 B - Two Colors Card Game\n",
    "\n",
    "n = int(input())\n",
    "s = \"\"\n",
    "d1 = {}\n",
    "d2 = {}\n",
    "for i in range(n):\n",
    "  s = input()\n",
    "  if s not in d1:\n",
    "    d1[s] = 1\n",
    "  else:\n",
    "    d1[s] += 1\n",
    "m = int(input())\n",
    "\n",
    "for j in range(m):\n",
    "  s = input()\n",
    "  if s not in d2:\n",
    "    d2[s] = 1\n",
    "  else:\n",
    "    d2[s] += 1\n",
    "k1 = d1.keys()\n",
    "k2 = d2.keys()\n",
    "a = 0\n",
    "temp = 0\n",
    "for x in k1:\n",
    "  if x not in k2:\n",
    "    if a < d1[x]:\n",
    "      a = d1[x]\n",
    "  else:\n",
    "    temp = d1[x] - d2[x]\n",
    "    if a < temp:\n",
    "      a = temp\n",
    "print(a)"
   ]
  },
  {
   "cell_type": "code",
   "execution_count": null,
   "metadata": {},
   "outputs": [],
   "source": [
    "#ABC091 C - 2D Plane 2N Points\n",
    "\n",
    "n = int(input())\n",
    "red = []\n",
    "blue = []\n",
    "B = [0]*(n+1)\n",
    "for i in range(n):\n",
    "  red.append(list(map(int,input().split())))\n",
    "\n",
    "for i in range(n):\n",
    "  blue.append(list(map(int,input().split())))\n",
    "red.sort(key=lambda x: x[1], reverse=True)\n",
    "blue.sort(key=lambda x: x[0])\n",
    "cnt = 0\n",
    "\n",
    "for i in range(n):\n",
    "  for j in range(n):\n",
    "    if (red[j][0] < blue[i][0] and red[j][1] < blue[i][1]) and B[j+1] == 0:\n",
    "      B[j+1] = 1\n",
    "      cnt += 1\n",
    "      break\n",
    "\n",
    "print(cnt)"
   ]
  },
  {
   "cell_type": "code",
   "execution_count": null,
   "metadata": {},
   "outputs": [],
   "source": [
    "#ABC092 A - Traveling Budget\n",
    "\n",
    "a = int(input())\n",
    "b = int(input())\n",
    "c = int(input())\n",
    "d = int(input())\n",
    "print(min(a,b)+min(c,d))"
   ]
  },
  {
   "cell_type": "code",
   "execution_count": null,
   "metadata": {},
   "outputs": [],
   "source": [
    "#ABC092 B - Chocolate\n",
    "\n",
    "a = int(input())\n",
    "b,c = map(int, input().split())\n",
    "l=[int(input()) for i in range(a)]\n",
    "sum = c\n",
    "\n",
    "for i in l:\n",
    "  if b%i != 0:\n",
    "    sum += b // i + 1\n",
    "  else:\n",
    "    sum += b // i\n",
    "    \n",
    "print(sum)"
   ]
  },
  {
   "cell_type": "code",
   "execution_count": null,
   "metadata": {},
   "outputs": [],
   "source": [
    "#ABC092 C - Traveling Plan\n",
    "\n",
    "n = int(input())\n",
    "l = list(map(int, input().split()))\n",
    "l.insert(0,0)\n",
    "l.append(0)\n",
    "num = 1\n",
    "sum = 0\n",
    "\n",
    "for i in range(n+1):\n",
    "  sum += abs(l[i+1]-l[i])\n",
    "#print(sum)\n",
    "    \n",
    "for i in range(1,n+1):\n",
    "  s1 = abs(l[i+1]- l[i-1])\n",
    "  s2 = abs(l[i]- l[i-1])\n",
    "  s3 = abs(l[i+1]- l[i])\n",
    "  print(sum + s1 - (s2 + s3))"
   ]
  },
  {
   "cell_type": "code",
   "execution_count": null,
   "metadata": {},
   "outputs": [],
   "source": [
    "#ABC093 A - abc of ABC\n",
    "\n",
    "s = list(input())\n",
    "print(\"Yes\" if len(set(s)) == 3 else \"No\")"
   ]
  },
  {
   "cell_type": "code",
   "execution_count": null,
   "metadata": {},
   "outputs": [],
   "source": [
    "#ABC093 B - Small and Large Integers\n",
    "\n",
    "a,b,c = map(int,input().split())\n",
    "l = []\n",
    "\n",
    "for i in range(a,a+c):\n",
    "  if i <= b:\n",
    "    l.append(i)\n",
    "for j in range(b,b-c,-1):\n",
    "  if j >= a:\n",
    "    l.append(j)\n",
    "l = list(set(l))\n",
    "l.sort()\n",
    "\n",
    "for i in range(len(l)):\n",
    "  print(l[i])"
   ]
  },
  {
   "cell_type": "code",
   "execution_count": null,
   "metadata": {},
   "outputs": [],
   "source": [
    "#ABC093 C - Same Integers\n",
    "\n",
    "l = list(map(int,input().split()))\n",
    "ans = 0\n",
    "l.sort()\n",
    "a,b,c = l[0],l[1],l[2]\n",
    "ans += (c-a) // 2 + (c-b) // 2\n",
    "a = (c-a) // 2 * 2 + a\n",
    "b = (c-b) // 2 * 2 + b\n",
    "\n",
    "if a == b and b == c:\n",
    "  ans += 0\n",
    "elif a == b and b != c:\n",
    "  ans += 1\n",
    "else:\n",
    "  ans += 2\n",
    "\n",
    "print(ans)"
   ]
  },
  {
   "cell_type": "code",
   "execution_count": null,
   "metadata": {},
   "outputs": [],
   "source": [
    "#ABC094 A - Cats and Dogs\n",
    "\n",
    "a,b,c = map(int,input().split())\n",
    "print(\"YES\" if 0 <= c - a <= b else \"NO\")"
   ]
  },
  {
   "cell_type": "code",
   "execution_count": null,
   "metadata": {},
   "outputs": [],
   "source": [
    "#ABC094 B - Toll Gatesz\n",
    "\n",
    "a,b,c = map(int, input().split())\n",
    "l = list(map(int, input().split()))\n",
    "cost = [0] * (a+1)\n",
    "for i in range(a):\n",
    "  if i in l:\n",
    "    cost[i] = 1\n",
    "\n",
    "sum1 = sum(cost[0:c:])\n",
    "sum2 = sum(cost[c::])\n",
    "print(min(sum1,sum2))"
   ]
  },
  {
   "cell_type": "code",
   "execution_count": null,
   "metadata": {},
   "outputs": [],
   "source": [
    "#ABC094 C - Many Medians\n",
    "\n",
    "import copy\n",
    "\n",
    "a = int(input())\n",
    "l = list(map(int, input().split()))\n",
    "l2 = sorted(copy.deepcopy(l))\n",
    "\n",
    "#print(l2)\n",
    "\n",
    "for i in l:\n",
    "  if i < l2[a//2]:\n",
    "    print(l2[a//2])\n",
    "  else:\n",
    "    print(l2[a//2 - 1])"
   ]
  },
  {
   "cell_type": "code",
   "execution_count": null,
   "metadata": {},
   "outputs": [],
   "source": [
    "#ABC095 A - Something on It\n",
    "\n",
    "s = input()\n",
    "print(700 + s.count(\"o\")*100)"
   ]
  },
  {
   "cell_type": "code",
   "execution_count": null,
   "metadata": {},
   "outputs": [],
   "source": [
    "#ABC095 B - Bitter Alchemy\n",
    "\n",
    "n,m = map(int, input().split())\n",
    "l = []\n",
    "ans = n\n",
    "for i in range(n):\n",
    "  s = int(input())\n",
    "  l.append(s)\n",
    "m -= sum(l)\n",
    "ans += m // min(l)\n",
    "print(ans)"
   ]
  },
  {
   "cell_type": "code",
   "execution_count": null,
   "metadata": {},
   "outputs": [],
   "source": []
  }
 ],
 "metadata": {
  "kernelspec": {
   "display_name": "Python 3",
   "language": "python",
   "name": "python3"
  },
  "language_info": {
   "codemirror_mode": {
    "name": "ipython",
    "version": 3
   },
   "file_extension": ".py",
   "mimetype": "text/x-python",
   "name": "python",
   "nbconvert_exporter": "python",
   "pygments_lexer": "ipython3",
   "version": "3.7.3"
  }
 },
 "nbformat": 4,
 "nbformat_minor": 2
}
