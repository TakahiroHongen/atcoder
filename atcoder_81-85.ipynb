{
 "cells": [
  {
   "cell_type": "code",
   "execution_count": 1,
   "metadata": {},
   "outputs": [],
   "source": [
    "#ABC081 A - Placing Marbles\n",
    "\n",
    "s = input()\n",
    "print(s.count('1'))"
   ]
  },
  {
   "cell_type": "code",
   "execution_count": null,
   "metadata": {},
   "outputs": [],
   "source": [
    "#ABC081 B - Shift only\n",
    "\n",
    "time = int(input())\n",
    "num = list(map(int, input().split()))\n",
    "count = 0\n",
    "\n",
    "\n",
    "while all(i % 2 == 0 for i in num):\n",
    "#\tprint('a')\n",
    "\tnum = [i / 2 for i in num]\n",
    "\tcount += 1\n",
    "#\tprint(num)\n",
    "print(count)"
   ]
  },
  {
   "cell_type": "code",
   "execution_count": null,
   "metadata": {},
   "outputs": [],
   "source": [
    "#ABC081 C - Not so Diverse\n",
    "\n",
    "from collections import Counter\n",
    "\n",
    "x, y = map(int, input().split())\n",
    "l = list(map(int, input().split()))\n",
    "l2 = []\n",
    "d = Counter(l)\n",
    "l2 = list(d.values())\n",
    "l2.sort(reverse=True)\n",
    "\n",
    "print(sum(l2[y:]))"
   ]
  },
  {
   "cell_type": "code",
   "execution_count": null,
   "metadata": {},
   "outputs": [],
   "source": [
    "#ABC082 A - Round Up the Mean\n",
    "\n",
    "import math\n",
    "a,b = map(int,input().split())\n",
    "print(math.ceil((a+b)/2))"
   ]
  },
  {
   "cell_type": "code",
   "execution_count": null,
   "metadata": {},
   "outputs": [],
   "source": [
    "#ABC082 B - Two Anagrams\n",
    "\n",
    "s = sorted(input())\n",
    "t = sorted(input(),reverse=True)\n",
    "\n",
    "print(\"Yes\" if s<t else \"No\")"
   ]
  },
  {
   "cell_type": "code",
   "execution_count": null,
   "metadata": {},
   "outputs": [],
   "source": [
    "#ABC082 C - Good Sequence\n",
    "\n",
    "n = int(input())\n",
    "l = map(int,input().split())\n",
    "d = {}\n",
    "ans = 0\n",
    "for i in l:\n",
    "  if i not in d:\n",
    "    d[i] = 1\n",
    "  else:\n",
    "    d[i] += 1\n",
    "for k,v in d.items():\n",
    "  if k != v:\n",
    "    if k < v:\n",
    "      ans += v - k\n",
    "    else:\n",
    "      ans += v\n",
    "print(ans)"
   ]
  },
  {
   "cell_type": "code",
   "execution_count": null,
   "metadata": {},
   "outputs": [],
   "source": [
    "#ABC082 D - FT Robot\n",
    "\n",
    "str = input()\n",
    "x,y = map(int,input().split())\n",
    "dx,dy = 0,0\n",
    "\n",
    "fn = [len(n) for n in str.split(\"T\")]\n",
    "dir = [[],[]]\n",
    "\n",
    "for i in range(len(fn)):\n",
    "  dir[i%2].append(fn[i])\n",
    "\n",
    "xdir = dir[0]\n",
    "ydir = dir[1]\n",
    "\n",
    "dx = xdir.pop(0)\n",
    "xdir.sort()\n",
    "while xdir != []:\n",
    "  if dx < x:\n",
    "    dx += xdir.pop()\n",
    "  else:\n",
    "    dx -= xdir.pop()\n",
    "    \n",
    "ydir.sort()\n",
    "while ydir != []:\n",
    "  if dy < y:\n",
    "    dy += ydir.pop()\n",
    "  else:\n",
    "    dy -= ydir.pop()\n",
    "\n",
    "if dx == x and dy == y:\n",
    "  print(\"Yes\")\n",
    "else:\n",
    "  print(\"No\")"
   ]
  },
  {
   "cell_type": "code",
   "execution_count": null,
   "metadata": {},
   "outputs": [],
   "source": [
    "#ABC083 A - Libra\n",
    "\n",
    "a,b,c,d = map(int,input().split())\n",
    "print(\"Left\" if a+b>c+d else \"Right\" if a+b<c+d else \"Balanced\")"
   ]
  },
  {
   "cell_type": "code",
   "execution_count": null,
   "metadata": {},
   "outputs": [],
   "source": [
    "#ABC083 B - Some Sums\n",
    "\n",
    "a,b,c = map(int,input().split())\n",
    "\n",
    "tmp = 0\n",
    "sum = 0\n",
    "ans = 0\n",
    "\n",
    "for i in range(a+1):\n",
    "  tmp = i\n",
    "  sum = 0\n",
    "  while tmp > 0:\n",
    "    sum += tmp % 10\n",
    "    tmp //= 10\n",
    "  if b <= sum <= c:\n",
    "#    print(\"i:\" + str(i))\n",
    "    ans += i\n",
    "print(ans)"
   ]
  },
  {
   "cell_type": "code",
   "execution_count": null,
   "metadata": {},
   "outputs": [],
   "source": [
    "#ABC083 C - Multiple Gift\n",
    "\n",
    "x,y = map(int,input().split())\n",
    "ans = 0\n",
    "while x <= y:\n",
    "  ans += 1\n",
    "  x *= 2\n",
    "print(ans)"
   ]
  },
  {
   "cell_type": "code",
   "execution_count": null,
   "metadata": {},
   "outputs": [],
   "source": [
    "#ABC084 A - New Year\n",
    "\n",
    "n = int(input())\n",
    "print(48-n)"
   ]
  },
  {
   "cell_type": "code",
   "execution_count": null,
   "metadata": {},
   "outputs": [],
   "source": [
    "#ABC084 B - Postal Code\n",
    "\n",
    "a,b = map(int, input().split())\n",
    "s = input()\n",
    "#print(s[a],s.count('-'))\n",
    "if s[a] == \"-\" and s.count('-') == 1:\n",
    "  print(\"Yes\")\n",
    "else:\n",
    "  print(\"No\")"
   ]
  },
  {
   "cell_type": "code",
   "execution_count": null,
   "metadata": {},
   "outputs": [],
   "source": [
    "#ABC084 C - Special Trains\n",
    "\n",
    "x = int(input())\n",
    "l = []\n",
    "st = 0\n",
    "ans = 0\n",
    "k = 0\n",
    "for i in range(x-1):\n",
    "  a,b,c = map(int,input().split())\n",
    "  l.append([a,b,c])\n",
    "\n",
    "for i in range(x):\n",
    "  st = 0\n",
    "  ans = 0\n",
    "  k = i + 1\n",
    "  if i == x - 1:\n",
    "    print(0)\n",
    "  else:\n",
    "    ans += l[i][0] + l[i][1]\n",
    "    while k < x - 1:\n",
    "#      print(\"mod:\" + str(ans % l[k][2]))\n",
    "      if ans < l[k][1]:\n",
    "        ans = l[k][1] + l[k][0]\n",
    "      elif ans >= l[k][1] and ans % l[k][2] != 0:\n",
    "        ans += l[k][2] - ans % l[k][2] + l[k][0]\n",
    "      else:\n",
    "        ans += l[k][0]\n",
    "#      print(\"ans:\" + str(ans))\n",
    "      k += 1\n",
    "    print(ans)"
   ]
  },
  {
   "cell_type": "code",
   "execution_count": null,
   "metadata": {},
   "outputs": [],
   "source": [
    "#ABC085 A - Already 2018\n",
    "\n",
    "s = input()\n",
    "print(\"2018\" + s[4:])"
   ]
  },
  {
   "cell_type": "code",
   "execution_count": null,
   "metadata": {},
   "outputs": [],
   "source": [
    "#ABC085 B - Kagami Mochi\n",
    "\n",
    "n = int(input())\n",
    "l = [int(input()) for i in range(n)]\n",
    "print(len(set(l)))"
   ]
  },
  {
   "cell_type": "code",
   "execution_count": null,
   "metadata": {},
   "outputs": [],
   "source": [
    "#ABC085 C - Otoshidama\n",
    "\n",
    "x,y = map(int,input().split())\n",
    "\n",
    "for a in range(x+1):\n",
    "  for b in range(x+1):\n",
    "    c = x - (a + b)\n",
    "    if (a * 10000 + b * 5000 + 1000 * (x - (a + b)) == y) and 0 <= x - (a + b) <= x:\n",
    "      print(a,b,c)\n",
    "      exit()\n",
    "print(-1, -1, -1)"
   ]
  },
  {
   "cell_type": "code",
   "execution_count": null,
   "metadata": {},
   "outputs": [],
   "source": []
  },
  {
   "cell_type": "code",
   "execution_count": null,
   "metadata": {},
   "outputs": [],
   "source": []
  }
 ],
 "metadata": {
  "kernelspec": {
   "display_name": "Python 3",
   "language": "python",
   "name": "python3"
  },
  "language_info": {
   "codemirror_mode": {
    "name": "ipython",
    "version": 3
   },
   "file_extension": ".py",
   "mimetype": "text/x-python",
   "name": "python",
   "nbconvert_exporter": "python",
   "pygments_lexer": "ipython3",
   "version": "3.7.3"
  }
 },
 "nbformat": 4,
 "nbformat_minor": 2
}
