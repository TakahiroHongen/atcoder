{
 "cells": [
  {
   "cell_type": "code",
   "execution_count": null,
   "metadata": {},
   "outputs": [],
   "source": [
    "#ABC086 A - Product\n",
    "\n",
    "a,b = map(int,input().split())\n",
    "print(\"Even\" if a * b % 2 == 0 else \"Odd\")"
   ]
  },
  {
   "cell_type": "code",
   "execution_count": null,
   "metadata": {},
   "outputs": [],
   "source": [
    "#ABC086 B - 1 21\n",
    "\n",
    "import math\n",
    "a,b = input().split()\n",
    "n = int(a+b)\n",
    "if int(n**.5) == int(math.ceil(n**.5)):\n",
    "\tprint(\"Yes\")\n",
    "else:\n",
    "\tprint(\"No\")"
   ]
  },
  {
   "cell_type": "code",
   "execution_count": null,
   "metadata": {},
   "outputs": [],
   "source": [
    "#ABC086 C - Traveling\n",
    "\n",
    "n = int(input())\n",
    "flg = True\n",
    "x,y = 0,0\n",
    "for i in range(n):\n",
    "  a,b,c = map(int,input().split())\n",
    "  if (a < abs(b) + abs(c) - (x+y)) or (a % 2 != (abs(b) + abs(c)) % 2):\n",
    "    flg = False\n",
    "    break\n",
    "  else:\n",
    "    x = b\n",
    "    y = c\n",
    "#print(flg)\n",
    "print(\"Yes\" if flg else \"No\")"
   ]
  },
  {
   "cell_type": "code",
   "execution_count": null,
   "metadata": {},
   "outputs": [],
   "source": [
    "#ABC087 A - Buying Sweets\n",
    "\n",
    "a = int(input())\n",
    "b = int(input())\n",
    "c = int(input())\n",
    "\n",
    "a -= b\n",
    "a -= a // c * c\n",
    "\n",
    "print(a)"
   ]
  },
  {
   "cell_type": "code",
   "execution_count": null,
   "metadata": {},
   "outputs": [],
   "source": [
    "#ABC087 B - Coins\n",
    "\n",
    "a = int(input())\n",
    "b = int(input())\n",
    "c = int(input())\n",
    "d = int(input())\n",
    "ans = 0\n",
    "\n",
    "for i in range(a+1):\n",
    "  for j in range(b+1):\n",
    "    for k in range(c+1):\n",
    "      if 500*i + 100*j + 50*k == d:\n",
    "        ans += 1\n",
    "\n",
    "print(ans)"
   ]
  },
  {
   "cell_type": "code",
   "execution_count": null,
   "metadata": {},
   "outputs": [],
   "source": [
    "#ABC087 C - Candies\n",
    "\n",
    "n = int(input())\n",
    "l1 = list(map(int,input().split()))\n",
    "l2 = list(map(int,input().split()))\n",
    "ans = 0\n",
    "for i in range(n):\n",
    "#  print(l1[:i+1],l2[i:n])\n",
    "#  print(\"ans:\"+ str(sum(l1[:i+1]) + sum(l2[i:n])))\n",
    "  ans = max(ans, sum(l1[:i+1]) + sum(l2[i:n]))\n",
    "print(ans)"
   ]
  },
  {
   "cell_type": "code",
   "execution_count": null,
   "metadata": {},
   "outputs": [],
   "source": [
    "#ABC088 A - Infinite Coins\n",
    "\n",
    "a=int(input())\n",
    "b=int(input())\n",
    "print(\"Yes\" if a%500 - b <= 0 else \"No\")"
   ]
  },
  {
   "cell_type": "code",
   "execution_count": null,
   "metadata": {},
   "outputs": [],
   "source": [
    "#ABC088 B - Card Game for Two\n",
    "\n",
    "n=int(input())\n",
    "l=list(map(int,input().split()))\n",
    "l.sort(reverse=True)\n",
    "a=sum(l[::2])\n",
    "b =sum(l[1::2])\n",
    "print(a-b)"
   ]
  },
  {
   "cell_type": "code",
   "execution_count": null,
   "metadata": {},
   "outputs": [],
   "source": [
    "#ABC088 D - Grid Repainting\n",
    "\n",
    "n,m = map(int,input().split())\n",
    "cnt = 0\n",
    "grid = [list(input()) for i in range(n)]\n",
    "grid2 = [[]]*n\n",
    "for i in range(n):\n",
    "  cnt += \"\".join(grid[i]).count(\"#\")\n",
    "  grid2[i] = [\"#\"] + grid[i] + [\"#\"]\n",
    "  \n",
    "grid2.insert(0,[\"#\"]*(m+2))\n",
    "grid2.append([\"#\"]*(m+2))\n",
    "grid2[1][1] = 0\n",
    "loc =[[1,1]]\n",
    "\n",
    "for k in range(1,n*m):\n",
    "  next_loc = []\n",
    "  for y,x in loc:\n",
    "    for i,j in ([-1,0],[1,0],[0,-1],[0,1]):\n",
    "      if grid2[y+i][x+j] == \".\":\n",
    "        grid2[y+i][x+j] = k\n",
    "        next_loc.append([y+i,x+j])\n",
    "  loc = next_loc\n",
    "#  print(loc,k)\n",
    "  if [n,m] in loc:\n",
    "    break\n",
    "\n",
    "ans = n*m - (k+1+cnt)\n",
    "\n",
    "print(ans if ans >= 0 else -1)"
   ]
  },
  {
   "cell_type": "code",
   "execution_count": null,
   "metadata": {},
   "outputs": [],
   "source": [
    "#ABC089 A - Grouping 2\n",
    "\n",
    "n = int(input())\n",
    "print(n//3)"
   ]
  },
  {
   "cell_type": "code",
   "execution_count": null,
   "metadata": {},
   "outputs": [],
   "source": [
    "#ABC089 B - Hina Arare\n",
    "\n",
    "n = input()\n",
    "l = list(map(str,input().split()))\n",
    "print(\"Four\" if len(set(l)) == 4 else \"Three\")"
   ]
  },
  {
   "cell_type": "code",
   "execution_count": null,
   "metadata": {},
   "outputs": [],
   "source": [
    "#ABC089 C - March\n",
    "\n",
    "from itertools import combinations\n",
    "n = int(input())\n",
    "l = [0]*5\n",
    "ans = 0\n",
    "\n",
    "for i in range(n):\n",
    "  s = input()\n",
    "  if s[0] == \"M\":\n",
    "    l[0] += 1\n",
    "  elif s[0] == \"A\":\n",
    "    l[1] += 1\n",
    "  elif s[0] == \"R\":\n",
    "    l[2] += 1 \n",
    "  elif s[0] == \"C\":\n",
    "    l[3] += 1\n",
    "  elif s[0] == \"H\":\n",
    "    l[4] += 1\n",
    "    \n",
    "for a,b,c in combinations(l, 3):\n",
    "  ans += a* b* c\n",
    "  \n",
    "print(ans)"
   ]
  },
  {
   "cell_type": "code",
   "execution_count": null,
   "metadata": {},
   "outputs": [],
   "source": [
    "#ABC090 A - Diagonal String\n",
    "\n",
    "l = [input() for i in range(3)]\n",
    "print(l[0][0]+l[1][1]+l[2][2])"
   ]
  },
  {
   "cell_type": "code",
   "execution_count": null,
   "metadata": {},
   "outputs": [],
   "source": [
    "#ABC090 B - Palindromic Numbers\n",
    "\n",
    "a,b = map(int,input().split())\n",
    "s = \"\"\n",
    "sr = \"\"\n",
    "ans = 0\n",
    "for i in range(a,b+1):\n",
    "  s = str(i)\n",
    "  sr = s[::-1]\n",
    "  if s == sr:\n",
    "    ans += 1\n",
    "print(ans)"
   ]
  },
  {
   "cell_type": "code",
   "execution_count": null,
   "metadata": {},
   "outputs": [],
   "source": [
    "#ABC090 C - Flip,Flip, and Flip......\n",
    "\n",
    "a,b = map(int,input().split())\n",
    "if a > 2 and b > 2:\n",
    "  print((a-2)*(b-2))\n",
    "elif a == 2 or b == 2:\n",
    "  print(0)\n",
    "else:\n",
    "  print(max(max(a,b)-2,1))"
   ]
  }
 ],
 "metadata": {
  "kernelspec": {
   "display_name": "Python 3",
   "language": "python",
   "name": "python3"
  },
  "language_info": {
   "codemirror_mode": {
    "name": "ipython",
    "version": 3
   },
   "file_extension": ".py",
   "mimetype": "text/x-python",
   "name": "python",
   "nbconvert_exporter": "python",
   "pygments_lexer": "ipython3",
   "version": "3.7.3"
  }
 },
 "nbformat": 4,
 "nbformat_minor": 2
}
